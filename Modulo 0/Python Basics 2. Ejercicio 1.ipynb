{
 "cells": [
  {
   "cell_type": "markdown",
   "metadata": {
    "id": "_9pTa0PXK9q6"
   },
   "source": [
    "## EJERCICIOS PYTHON BASICO 2:\n",
    "## Tipos y conversión de tipos"
   ]
  },
  {
   "cell_type": "markdown",
   "metadata": {
    "id": "tYmV-veoK9q6"
   },
   "source": [
    "Completa los siguiente ejercicios, la solución a los mismos se publicarán en el repo del curso a lo largo del sprint"
   ]
  },
  {
   "cell_type": "markdown",
   "metadata": {
    "id": "YAdFbIOXK9q7"
   },
   "source": [
    "## Ejercicio 1\n",
    "\n",
    "1. Crea dos variables numericas: un `int` y un `float`\n",
    "2. Comprueba sus tipos\n",
    "3. Sumalas en otra nueva\n",
    "4. ¿De qué tipo es la nueva variable?\n",
    "5. Elimina las dos primeras variables creadas"
   ]
  },
  {
   "cell_type": "code",
   "execution_count": 4,
   "metadata": {
    "id": "8QZmuLOsK9q7"
   },
   "outputs": [
    {
     "name": "stdout",
     "output_type": "stream",
     "text": [
      "1\n",
      "1.5\n",
      "<class 'int'>\n",
      "<class 'float'>\n",
      "2.5\n",
      "La respuesta es <class 'float'>\n"
     ]
    }
   ],
   "source": [
    "#1\n",
    "entero = 1\n",
    "flotante = 1.5\n",
    "print(entero)\n",
    "print(flotante)\n",
    "\n",
    "#2\n",
    "print(type(entero))\n",
    "print(type(flotante))\n",
    "\n",
    "#3\n",
    "suma = entero + flotante\n",
    "print(suma)\n",
    "\n",
    "#4\n",
    "print(f\"La respuesta es {type(suma)}\")\n",
    "\n",
    "#5\n",
    "del entero\n",
    "del flotante"
   ]
  },
  {
   "cell_type": "markdown",
   "metadata": {
    "id": "f5xfpkpQK9q7"
   },
   "source": [
    "## Ejercicio 2\n",
    "Escribe un programa para pasar de grados a radianes. Hay que usar `input`. Recuerda que la conversión se realiza mediante\n",
    "\n",
    "radianes = grados*(pi/180)"
   ]
  },
  {
   "cell_type": "code",
   "execution_count": 25,
   "metadata": {
    "id": "V50TUQMzK9q7"
   },
   "outputs": [
    {
     "name": "stdin",
     "output_type": "stream",
     "text": [
      "Elije una cantidad de grados para convertir a radianes:  50\n"
     ]
    },
    {
     "name": "stdout",
     "output_type": "stream",
     "text": [
      "0.8722222222222223\n"
     ]
    },
    {
     "name": "stdin",
     "output_type": "stream",
     "text": [
      "Elije una cantidad de grados para convertir a radianes:  50\n"
     ]
    },
    {
     "name": "stdout",
     "output_type": "stream",
     "text": [
      "El total de 50 grados equivale a 0.8726646259971648 radianes\n"
     ]
    }
   ],
   "source": [
    "grados = float(input(\"Elije una cantidad de grados para convertir a radianes: \"))\n",
    "pi = 3.14\n",
    "radianes = grados*(pi/180)\n",
    "print(radianes)\n",
    "\n",
    "###################### agrego opción con import math\n",
    "\n",
    "import math\n",
    "grados_1 = grados = float(input(\"Elije una cantidad de grados para convertir a radianes: \"))\n",
    "radianes_1 = grados*(math.pi/180)\n",
    "print(f\"El total de {int(grados_1)} grados equivale a {radianes_1} radianes\")"
   ]
  },
  {
   "cell_type": "markdown",
   "metadata": {
    "id": "zX3-p58CK9q7"
   },
   "source": [
    "## Ejercicio 3\n",
    "Escribe un programa que calcule el area de un paralelogramo (base x altura). También con `input`"
   ]
  },
  {
   "cell_type": "code",
   "execution_count": 28,
   "metadata": {
    "id": "s2QfNiBAK9q7"
   },
   "outputs": [
    {
     "name": "stdout",
     "output_type": "stream",
     "text": [
      "Calculemos el área de un paralelogramo\n"
     ]
    },
    {
     "name": "stdin",
     "output_type": "stream",
     "text": [
      "¿Qué base tendrá?:  500\n",
      "Qué altura tendrá?:  4\n"
     ]
    },
    {
     "name": "stdout",
     "output_type": "stream",
     "text": [
      "El área del paralelogramo es de 2000\n"
     ]
    }
   ],
   "source": [
    "print(\"Calculemos el área de un paralelogramo\")\n",
    "base = int(input(\"¿Qué base tendrá?: \"))\n",
    "altura = int(input(\"Qué altura tendrá?: \"))\n",
    "area = base * altura\n",
    "print(f\"El área del paralelogramo es de {area}\")"
   ]
  },
  {
   "cell_type": "markdown",
   "metadata": {
    "id": "-6TBo_HvK9q8"
   },
   "source": [
    "## Ejercicio 4\n",
    "Escribe un programa que calcule el area de un paralelogramo (base x altura). También con `input`. En este caso debe ser capaz de admitir valores reales, con decimales, para base y altura en español. (PISTA: Recuerda que tendrás que hacer uso del método replace)"
   ]
  },
  {
   "cell_type": "code",
   "execution_count": 41,
   "metadata": {},
   "outputs": [
    {
     "name": "stdout",
     "output_type": "stream",
     "text": [
      "Calculemos el área de un paralelogramo\n"
     ]
    },
    {
     "name": "stdin",
     "output_type": "stream",
     "text": [
      "¿Qué base tendrá?:  2,9\n",
      "Qué altura tendrá?:  33,33\n"
     ]
    },
    {
     "name": "stdout",
     "output_type": "stream",
     "text": [
      "El área del paralelogramo es de 96.657\n"
     ]
    }
   ],
   "source": [
    "print(\"Calculemos el área de un paralelogramo\")\n",
    "base_str = input(\"¿Qué base tendrá?: \")               #aquí podría haber hecho float(input(\"¿Qué base tendrá?: \").replace(\",\",\".\"))\n",
    "base_float = float(base_str.replace(\",\",\".\"))\n",
    "altura_str = input(\"Qué altura tendrá?: \")            #lo mismo aquí\n",
    "altura_float = float(altura_str.replace(\",\",\".\"))\n",
    "area = base_float * altura_float\n",
    "print(f\"El área del paralelogramo es de {area}\")\n",
    "\n"
   ]
  },
  {
   "cell_type": "markdown",
   "metadata": {
    "id": "5zKugi5iK9q8"
   },
   "source": [
    "## Ejercicio 5\n",
    "Complete el siguiente código para solicitar al usuario su nombre y su edad. Luego, calcule en qué año nació el usuario y muestre el resultado."
   ]
  },
  {
   "cell_type": "code",
   "execution_count": 39,
   "metadata": {
    "id": "LISfTnRkK9q8"
   },
   "outputs": [
    {
     "name": "stdin",
     "output_type": "stream",
     "text": [
      "¿Cuál es tu nombre?:  Nacho\n",
      "¿Cuál es tu edad?  33\n"
     ]
    },
    {
     "name": "stdout",
     "output_type": "stream",
     "text": [
      "Nacho, naciste en el año 1992.\n"
     ]
    }
   ],
   "source": [
    "nombre = input(\"¿Cuál es tu nombre?: \")\n",
    "edad = int(input(\"¿Cuál es tu edad? \"))\n",
    "año_actual = 2025  # Puedes cambiarlo según el año en curso\n",
    "año_nacimiento = año_actual - edad\n",
    "\n",
    "print(f\"{nombre}, naciste en el año {año_nacimiento}.\")"
   ]
  }
 ],
 "metadata": {
  "colab": {
   "provenance": [
    {
     "file_id": "1kZ6Lbon11DEJd0A-AoDFqb6_Xu6xorza",
     "timestamp": 1757323833205
    }
   ]
  },
  "kernelspec": {
   "display_name": "Python 3 (ipykernel)",
   "language": "python",
   "name": "python3"
  },
  "language_info": {
   "codemirror_mode": {
    "name": "ipython",
    "version": 3
   },
   "file_extension": ".py",
   "mimetype": "text/x-python",
   "name": "python",
   "nbconvert_exporter": "python",
   "pygments_lexer": "ipython3",
   "version": "3.13.3"
  }
 },
 "nbformat": 4,
 "nbformat_minor": 4
}
