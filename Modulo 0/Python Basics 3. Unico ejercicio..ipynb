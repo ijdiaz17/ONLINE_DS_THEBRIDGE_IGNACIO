{
 "cells": [
  {
   "cell_type": "markdown",
   "metadata": {
    "id": "AyOlWS2nRWxH"
   },
   "source": [
    "## PRACTICA OBLIGATORIA: COLECCIONES Y FUNCIONES"
   ]
  },
  {
   "cell_type": "markdown",
   "metadata": {
    "id": "6UOgb0KVRWxH"
   },
   "source": [
    "* La práctica obligatoria de esta unidad consiste varios ejercicios de programación libre a completar sobre Colecciones y Funciones. Descarga este notebook en tu ordenador y trabaja en local.  \n",
    "* Recuerda que debes subirla a tu repositorio personal antes de la sesión en vivo para que puntúe adecuadamente y puedas participar en dicha sesión.  \n",
    "* Recuerda también que no es necesario que esté perfecta, sólo es necesario que se vea el esfuerzo.\n",
    "* Esta práctica se resolverá en la sesión en vivo correspondiente y la solución se publicará en el repo del curso."
   ]
  },
  {
   "cell_type": "markdown",
   "metadata": {
    "id": "j3yu-tEjRWxH"
   },
   "source": [
    "### Contenidos"
   ]
  },
  {
   "cell_type": "markdown",
   "metadata": {
    "id": "kO-fLH39RWxH"
   },
   "source": [
    "## Ejercicio 1\n",
    "Eleva todos los elementos de la lista al cuadrado\n",
    "> ```ejer_2 = [1,2,3,4,5]```"
   ]
  },
  {
   "cell_type": "code",
   "execution_count": 2,
   "metadata": {
    "id": "ks5l3yi7RWxH"
   },
   "outputs": [
    {
     "data": {
      "text/plain": [
       "[1, 4, 9, 16, 25]"
      ]
     },
     "execution_count": 2,
     "metadata": {},
     "output_type": "execute_result"
    }
   ],
   "source": [
    "def eleva_cuadrado(numeros):\n",
    "    elevados = []\n",
    "    for numero in numeros:\n",
    "        cuadrado = numero ** 2\n",
    "        elevados.append(cuadrado)\n",
    "    return elevados\n",
    "\n",
    "ejer_2 = [1,2,3,4,5]\n",
    "eleva_cuadrado(ejer_2)"
   ]
  },
  {
   "cell_type": "markdown",
   "metadata": {
    "id": "kI_Xr5oFRWxI"
   },
   "source": [
    "## Ejercicio 2\n",
    "Haz un programa que detecte todos los duplicados de un elemento en una lista:\n",
    "* Utiliza una variable duplicado para asignarle el valor del elemento del que queremos encontrar todos sus duplicados.\n",
    "* El programa debe devolver todos los índices de los elementos duplicados.\n",
    "* Aplícalo para encontrar los duplicados de \"un\", \"es\" y \"binario\" de:  \n",
    "\n",
    ">```ejer_3 = [\"Un\", \"árbol\", \"binario\", \"es\", \"una\", \"estructura\", \"de\", \"un\", \"tipo\", \"particular\", \"a\", \"veces\", \"no\", \"es\", \"ni\", \"binario\"]```\n"
   ]
  },
  {
   "cell_type": "code",
   "execution_count": 146,
   "metadata": {
    "id": "cLY9WB7YRWxI"
   },
   "outputs": [
    {
     "name": "stdout",
     "output_type": "stream",
     "text": [
      "La palabra 'un' está en los índices: [0, 7]\n",
      "La palabra 'es' está en los índices: [3, 13]\n",
      "La palabra 'binario' está en los índices: [2, 15]\n"
     ]
    }
   ],
   "source": [
    "ejer_3 = [\"Un\", \"árbol\", \"binario\", \"es\", \"una\", \"estructura\", \"de\", \"un\", \"tipo\", \"particular\", \"a\", \"veces\", \"no\", \"es\", \"ni\", \"binario\"]\n",
    "\n",
    "# no me salió, recurrí a chatgpt\n",
    "\n",
    "def busca_dupli(lista, duplicado):\n",
    "    indices = []\n",
    "    for i, palabra in enumerate(lista):\n",
    "        if palabra.lower() == duplicado.lower():\n",
    "            indices.append(i)\n",
    "    return indices\n",
    "\n",
    "print(f\"La palabra 'un' está en los índices: {busca_dupli(ejer_3, \"un\")}\")\n",
    "print(f\"La palabra 'es' está en los índices: {busca_dupli(ejer_3, \"es\")}\")\n",
    "print(f\"La palabra 'binario' está en los índices: {busca_dupli(ejer_3, \"binario\")}\")"
   ]
  },
  {
   "cell_type": "markdown",
   "metadata": {
    "id": "3WrBd5QaRWxI"
   },
   "source": [
    "## Ejercicio 3\n",
    "1. ¿Cuántas veces se repite el 3 en la siguiente tupla?\n",
    "2. Crea una tupla nueva con los elementos desde la posicion 5 a la 10.\n",
    "3. ¿Cuántos elementos tiene la tupla `ejer_3`?\n",
    "> ```ejer_9 = (3, 20, 3, 47, 19, 3, 29, 45, 67, 78, 90, 3, 3, 5, 2, 4, 7, 9, 4, 2, 4, 3, 3, 4, 6, 7)```"
   ]
  },
  {
   "cell_type": "code",
   "execution_count": 8,
   "metadata": {
    "id": "bkv_R5LYRWxI"
   },
   "outputs": [
    {
     "name": "stdout",
     "output_type": "stream",
     "text": [
      "7\n",
      "(19, 3, 29, 45, 67, 78, 90)\n",
      "16\n"
     ]
    }
   ],
   "source": [
    "ejer_9 = (3, 20, 3, 47, 19, 3, 29, 45, 67, 78, 90, 3, 3, 5, 2, 4, 7, 9, 4, 2, 4, 3, 3, 4, 6, 7)\n",
    "\n",
    "#1\n",
    "print(ejer_9.count(3))\n",
    "\n",
    "#2\n",
    "nueva_tupla = ejer_9[4:11]\n",
    "print(nueva_tupla)\n",
    "\n",
    "#3\n",
    "print(len(ejer_3))"
   ]
  },
  {
   "cell_type": "markdown",
   "metadata": {
    "id": "6g8Y54AeRWxI"
   },
   "source": [
    "## Ejercicio 4\n",
    "Comprueba si el numero 60 esta en la tupla del ejercicio 3"
   ]
  },
  {
   "cell_type": "code",
   "execution_count": 9,
   "metadata": {
    "id": "F8VTEZonRWxI"
   },
   "outputs": [
    {
     "name": "stdout",
     "output_type": "stream",
     "text": [
      "0\n"
     ]
    }
   ],
   "source": [
    "print(ejer_9.count(60))"
   ]
  },
  {
   "cell_type": "markdown",
   "metadata": {
    "id": "y0fg-ZA6RWxI"
   },
   "source": [
    "## Ejercicio 5\n",
    "1. Convierte la tupla del ejercicio 3 en una lista\n",
    "2. Convierte la tupla del ejercicio 3 en un set\n",
    "3. Convierte la tupla del ejercicio 3 en un diccionario. Usa también los indices"
   ]
  },
  {
   "cell_type": "code",
   "execution_count": 49,
   "metadata": {
    "id": "_O5hXr01RWxI"
   },
   "outputs": [
    {
     "name": "stdout",
     "output_type": "stream",
     "text": [
      "[3, 20, 3, 47, 19, 3, 29, 45, 67, 78, 90, 3, 3, 5, 2, 4, 7, 9, 4, 2, 4, 3, 3, 4, 6, 7]\n",
      "{2, 3, 67, 5, 4, 7, 6, 9, 45, 78, 47, 19, 20, 90, 29}\n",
      "{1: 3, 2: 20, 3: 3, 4: 47, 5: 19, 6: 3, 7: 29, 8: 45, 9: 67, 10: 78, 11: 90, 12: 3, 13: 3, 14: 5, 15: 2, 16: 4, 17: 7, 18: 9, 19: 4, 20: 2, 21: 4, 22: 3, 23: 3, 24: 4, 25: 6, 26: 7}\n"
     ]
    }
   ],
   "source": [
    "#1\n",
    "print(list(ejer_9))\n",
    "\n",
    "#2\n",
    "print(set(ejer_9))\n",
    "\n",
    "#3\n",
    "print(dict(enumerate(ejer_9, start = 1)))"
   ]
  },
  {
   "cell_type": "markdown",
   "metadata": {
    "id": "eOdWWbxvRWxJ"
   },
   "source": [
    "## Ejercicio 6\n",
    "Multiplica todos los valores del diccionario\n",
    "> ```ejer_6 = {1: 11, 2: 22, 3: 33, 4: 44, 5: 55}```"
   ]
  },
  {
   "cell_type": "code",
   "execution_count": 17,
   "metadata": {
    "id": "KcuByovKRWxJ"
   },
   "outputs": [
    {
     "data": {
      "text/plain": [
       "19326120"
      ]
     },
     "execution_count": 17,
     "metadata": {},
     "output_type": "execute_result"
    }
   ],
   "source": [
    "ejer_6 = {1: 11, 2: 22, 3: 33, 4: 44, 5: 55}\n",
    "\n",
    "def multiplica(argumentos):\n",
    "    resultado = 1\n",
    "    for valor in argumentos.values():\n",
    "        resultado *= valor\n",
    "    return resultado\n",
    "\n",
    "multiplica(ejer_6)"
   ]
  },
  {
   "cell_type": "markdown",
   "metadata": {
    "id": "W7TUSaKRRWxJ"
   },
   "source": [
    "## Ejercicio 7\n",
    "\n",
    "1. Crea un diccionario que describa un libro, con los siguientes campos o claves: \"titulo\",\"autor\",\"idioma original\",\"año de publicación\".\n",
    "2. Crea un a lista, llamada librería.\n",
    "3. Añade cuatro libros a tu elección a la librería."
   ]
  },
  {
   "cell_type": "code",
   "execution_count": 24,
   "metadata": {
    "id": "d-IMRvxRRWxJ",
    "vscode": {
     "languageId": "plaintext"
    }
   },
   "outputs": [
    {
     "name": "stdout",
     "output_type": "stream",
     "text": [
      "[{'titulo': 'Cien años de Soledad', 'autor': 'Gabriel García Márquez', 'Idioma': 'Español', 'Año de publicación': 1967}, {'titulo': '1984', 'autor': 'George Orwell', 'Idioma': 'Inglés', 'Año de publicación': 1949}, {'titulo': 'El Principito', 'autor': 'Antoine de Saint-Exupéry', 'Idioma': 'Francés', 'Año de publicación': 1943}, {'titulo': 'Don Quijote de la Mancha', 'autor': 'Miguel de Cervantes', 'Idioma': 'Español', 'Año de publicación': 1605}]\n"
     ]
    }
   ],
   "source": [
    "libro1 = {\"titulo\": \"Cien años de Soledad\", \"autor\": \"Gabriel García Márquez\", \"Idioma\": \"Español\", \"Año de publicación\": 1967}\n",
    "libreria = [libro1]\n",
    "\n",
    "libro2 = {\"titulo\": \"1984\", \"autor\": \"George Orwell\", \"Idioma\": \"Inglés\", \"Año de publicación\": 1949}\n",
    "libro3 = {\"titulo\": \"El Principito\", \"autor\": \"Antoine de Saint-Exupéry\", \"Idioma\": \"Francés\", \"Año de publicación\": 1943}\n",
    "libro4 = {\"titulo\": \"Don Quijote de la Mancha\", \"autor\": \"Miguel de Cervantes\", \"Idioma\": \"Español\", \"Año de publicación\": 1605}\n",
    "\n",
    "libreria.append(libro2)\n",
    "libreria.append(libro3)\n",
    "libreria.append(libro4)\n",
    "\n",
    "\n",
    "print(libreria)"
   ]
  },
  {
   "cell_type": "markdown",
   "metadata": {
    "id": "glMoedjYRWxJ"
   },
   "source": [
    "## Ejercicio 8\n",
    "Modifica los valores del idioma de todos los libros del ejercicio anterior para que sea \"esperanto\"\n"
   ]
  },
  {
   "cell_type": "code",
   "execution_count": 42,
   "metadata": {
    "id": "veNdC-uwRWxJ"
   },
   "outputs": [
    {
     "name": "stdout",
     "output_type": "stream",
     "text": [
      "[{'titulo': 'Cien años de Soledad', 'autor': 'Gabriel García Márquez', 'Idioma': 'Esperanto', 'Año de publicación': 1967}, {'titulo': '1984', 'autor': 'George Orwell', 'Idioma': 'Esperanto', 'Año de publicación': 1949}, {'titulo': 'El Principito', 'autor': 'Antoine de Saint-Exupéry', 'Idioma': 'Esperanto', 'Año de publicación': 1943}, {'titulo': 'Don Quijote de la Mancha', 'autor': 'Miguel de Cervantes', 'Idioma': 'Esperanto', 'Año de publicación': 1605}]\n"
     ]
    }
   ],
   "source": [
    "'''\n",
    "libro1[\"Idioma\"] = \"Esperanto\"\n",
    "libro2[\"Idioma\"] = \"Esperanto\"\n",
    "libro3[\"Idioma\"] = \"Esperanto\"\n",
    "libro4[\"Idioma\"] = \"Esperanto\"\n",
    "'''\n",
    "\n",
    "for libro in libreria:\n",
    "    libro[\"Idioma\"] = \"Esperanto\"\n",
    "\n",
    "print(libreria)"
   ]
  },
  {
   "cell_type": "markdown",
   "metadata": {
    "id": "DRCJG04KRWxJ"
   },
   "source": [
    "## Ejercicio 9\n",
    "1. Escribe un programa que dada una variable titulo busque los libros que hay en la librería con ese título. Si no se encuentra debe devolver el mensaje `Ese no lo tengo, ¿mola?`\n",
    "2. Pruena que el programa con uno de tus libros y con otro que no contenga tu librería."
   ]
  },
  {
   "cell_type": "code",
   "execution_count": 131,
   "metadata": {
    "id": "eWHdJi9BRWxJ"
   },
   "outputs": [
    {
     "data": {
      "text/plain": [
       "'Cien años de Soledad'"
      ]
     },
     "execution_count": 131,
     "metadata": {},
     "output_type": "execute_result"
    }
   ],
   "source": [
    "def busca_libros(eleccion):\n",
    "    return eleccion.get(\"titulo\")\n",
    "\n",
    "busca_libros(libro1)\n",
    "\n",
    "################################\n",
    "\n",
    "def buscador(libreria, titulo):\n",
    "    for libros in libreria:\n",
    "        if libros[\"titulo\"] == titulo:\n",
    "            return libros[\"titulo\"]\n",
    "    return \"Ese no lo tengo\"                 # con ayuda de chatgpt, no sabía que podía haber dos return\n",
    "                                \n",
    "buscador(libreria, \"Cien años de Soledad\")"
   ]
  },
  {
   "cell_type": "markdown",
   "metadata": {
    "id": "17YOpYuFRWxJ"
   },
   "source": [
    "## Ejercicio 10\n",
    "Convierte el programa del ejercicio 2 en una función al que se le pase el valor a buscar como un argumento posicional"
   ]
  },
  {
   "cell_type": "code",
   "execution_count": 144,
   "metadata": {
    "id": "xbj0LgvnRWxJ"
   },
   "outputs": [
    {
     "data": {
      "text/plain": [
       "[0, 7]"
      ]
     },
     "execution_count": 144,
     "metadata": {},
     "output_type": "execute_result"
    }
   ],
   "source": [
    "def busca_dupli(duplicado, lista = ejer_3):\n",
    "    indices = []\n",
    "    for i, palabra in enumerate(lista):\n",
    "        if palabra.lower() == duplicado.lower():\n",
    "            indices.append(i)\n",
    "    return indices\n",
    "\n",
    "busca_dupli(\"un\")"
   ]
  },
  {
   "cell_type": "markdown",
   "metadata": {
    "id": "xZ-sWJxPRWxJ"
   },
   "source": [
    "## Ejercicio 11\n",
    "Convierte el programa del ejercicio 9 en una función al que se le pasen como argumentos la librería, posicional, y el título, argumento keyword con valor \"ninguno\", por defecto."
   ]
  },
  {
   "cell_type": "code",
   "execution_count": 145,
   "metadata": {
    "id": "4-JrsMdNRWxK"
   },
   "outputs": [
    {
     "data": {
      "text/plain": [
       "'Cien años de Soledad'"
      ]
     },
     "execution_count": 145,
     "metadata": {},
     "output_type": "execute_result"
    }
   ],
   "source": [
    "def buscador(libreria, titulo = \"ninguno\"):\n",
    "    for libros in libreria:\n",
    "        if libros[\"titulo\"] == titulo:\n",
    "            return libros[\"titulo\"]\n",
    "    return \"Ese no lo tengo\"                 # con ayuda de chatgpt, no recordaba que podía haber dos return\n",
    "                                \n",
    "buscador(libreria, titulo = \"Cien años de Soledad\")"
   ]
  },
  {
   "cell_type": "markdown",
   "metadata": {
    "id": "FtJir95QRWxK"
   },
   "source": [
    "## Ejercicio 12\n",
    "Solicitar al usuario que ingrese su dirección email. Imprimir un mensaje indicando si la dirección es válida o no, valiéndose de una función para decidirlo. Una dirección se considerará válida si contiene el símbolo \"@\"."
   ]
  },
  {
   "cell_type": "code",
   "execution_count": 60,
   "metadata": {
    "id": "sk852IZ8RWxK"
   },
   "outputs": [
    {
     "name": "stdin",
     "output_type": "stream",
     "text": [
      "Ingrese su correo electrónico:  asdjfhalsfh@\n"
     ]
    },
    {
     "name": "stdout",
     "output_type": "stream",
     "text": [
      "Correo válido\n"
     ]
    }
   ],
   "source": [
    "email = input(\"Ingrese su correo electrónico: \")\n",
    "\n",
    "def validacion(correo):\n",
    "    if \"@\" in correo:\n",
    "        print(\"Correo válido\")\n",
    "    else:\n",
    "        print(\"Correo inválido\")\n",
    "\n",
    "validacion(email)"
   ]
  },
  {
   "cell_type": "markdown",
   "metadata": {
    "id": "Kw1MWBwBRWxK"
   },
   "source": [
    "## Ejercicio 13\n",
    "Escribe una función que compruebe si un DNI es válido, devolviendo `True` en caso afirmativo.  \n",
    "En primer lugar, el DNI debe tener entre 7 y 8 dígitos numéricos.  \n",
    "Para saber si la letra del DNI es correcta puedes utilizar el siguiente fragmento de código:\n",
    ">```Python\n",
    ">DNI= 55555555\n",
    ">palabra='TRWAGMYFPDXBNJZSQVHLCKE'\n",
    ">print('La letra del DNI es: ', palabra[DNI%23])\n",
    ">````\n"
   ]
  },
  {
   "cell_type": "code",
   "execution_count": 71,
   "metadata": {
    "id": "F5Z9rSHqRWxK"
   },
   "outputs": [],
   "source": [
    "####################### no lo logré y tampoco lo entendí"
   ]
  }
 ],
 "metadata": {
  "colab": {
   "provenance": [
    {
     "file_id": "1fBVPYT7YG93-G0v_efCE49072iBWASvu",
     "timestamp": 1757525851607
    }
   ]
  },
  "kernelspec": {
   "display_name": "Python 3 (ipykernel)",
   "language": "python",
   "name": "python3"
  },
  "language_info": {
   "codemirror_mode": {
    "name": "ipython",
    "version": 3
   },
   "file_extension": ".py",
   "mimetype": "text/x-python",
   "name": "python",
   "nbconvert_exporter": "python",
   "pygments_lexer": "ipython3",
   "version": "3.13.3"
  }
 },
 "nbformat": 4,
 "nbformat_minor": 4
}
