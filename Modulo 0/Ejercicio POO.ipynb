{
 "cells": [
  {
   "cell_type": "markdown",
   "metadata": {
    "id": "liorA-1ZSU4y"
   },
   "source": [
    "# Ejercicios Clases y Objetos"
   ]
  },
  {
   "cell_type": "markdown",
   "metadata": {
    "id": "5xXUz5l9SU4z"
   },
   "source": [
    "## Ejercicio 1\n",
    "Somos una empresa que tiene varias tiendas de electrodomesticos. Necesitamos un programa para manejar las tiendas, ver las ventas que han tenido, cuántos empleados hay, etc... Para ello vamos a modelizar la tienda en una clase, que tendrá las siguientes características:\n",
    "* Nombre clase: \"Tienda\"\n",
    "* Atributos comunes:\n",
    "    * Tipo: \"Electrodomésticos\"\n",
    "    * Abierta: True\n",
    "* Atributos propios de cada tienda:\n",
    "    * Nombre - String\n",
    "    * Dirección - String\n",
    "    * Número de empleados - int\n",
    "    * Ventas ultimos 3 meses - Lista de 3 numeros\n",
    "* Método para calcular las ventas de todos los meses, que devuelva un numero con todas las ventas.\n",
    "* Método que calcula la media de ventas de los ultimos meses, por empleado\n",
    "* Método que devuelve en un string el nombre de la tienda, junto con su dirección.\n",
    "* Método que obtiene las ventas del último mes.\n",
    "* Método para dar una proyección de las ventas en caso de haber invertido X dinero en marketing en esa tienda. Siendo X el parámetro de entrada. Si X es menor de 1000, las ventas de los ultimos 3 meses hubiesen sido de (1.2 x ventas), si es mayor o igual de 1000, las ventas hubiesen sido de (1.5 x venta). El método reescribe el atributo de ventas en los últimos 3 meses, y además devuelve las ventas con el aumento.\n",
    "\n",
    "Se pide:\n",
    "1. Implementar la clase \"Tienda\"\n",
    "2. Crear tres tiendas con datos inventados\n",
    "3. Comprueba en al menos una de ellas, todo lo implementado en la clase tienda (sus atributos, media de ventas, ventas/empleado...)\n",
    "3. Calcular las ventas del último mes de todas las tiendas. Para ello usa el bucle `for`\n",
    "4. Imprime por pantalla los nombres de las tiendas cuya dirección lleve el string \"Avenida\"\n",
    "5. Seguro que ya has hecho este apartado... Documenta la clase :)"
   ]
  },
  {
   "cell_type": "code",
   "execution_count": 41,
   "metadata": {
    "id": "5cLQcLxfSU4z"
   },
   "outputs": [],
   "source": [
    "class Tienda:  #declaracion de clase\n",
    "    \n",
    "    def __init__(self, nombre, direccion, numero_empleados, ventas_tres_meses, tipo = \"Electrodomésticos\", abierta = True):\n",
    "        self.nombre = nombre\n",
    "        self.direccion = direccion\n",
    "        self.numero_empleados = numero_empleados\n",
    "        self.ventas_tres_meses = ventas_tres_meses\n",
    "        self.tipo = tipo\n",
    "        self.abierta = abierta\n",
    "\n",
    "    def ventas_totales(self, ventas_total):  #funcion de ventas totales, hice que se se le sume un parámetro a los ultimos tres meses\n",
    "        for ventas in self.ventas_tres_meses:\n",
    "            ventas_total += ventas\n",
    "        return ventas_total\n",
    "\n",
    "    def media_ventas_empleados(self):                              #division de los ultimos tres meses con la cnatidad de empleados\n",
    "        return sum(self.ventas_tres_meses) / self.numero_empleados\n",
    "\n",
    "    def print_tienda_direccion(self):\n",
    "        return \"La tienda de nombre \" + self.nombre + \" se encuentra en la dirección \" + self.direccion\n",
    "\n",
    "    def ventas_ultimo_mes(self):           #seleccion del ultimo mes a través del índice de lista\n",
    "        return self.ventas_tres_meses[-1]\n",
    "\n",
    "    def proyeccion(self, x):\n",
    "        if x < 1000:\n",
    "            self.ventas_tres_meses[:] = [ventas * 1.2 for ventas in self.ventas_tres_meses] #lista comprimida que recorre los ultimos tres meses y los multiplica por 1.2. se reescribe el atributo de ventas\n",
    "            return self.ventas_tres_meses, sum(self.ventas_tres_meses)\n",
    "        else:\n",
    "            self.ventas_tres_meses[:] = [ventas * 1.5 for ventas in self.ventas_tres_meses]\n",
    "            return self.ventas_tres_meses, sum(self.ventas_tres_meses)\n",
    "            "
   ]
  },
  {
   "cell_type": "code",
   "execution_count": 68,
   "metadata": {},
   "outputs": [
    {
     "name": "stdout",
     "output_type": "stream",
     "text": [
      "Media Markt\n",
      "Avenida Diagonal 177\n",
      "5\n",
      "[5000, 2500, 10000]\n",
      "Electrodomésticos\n",
      "True\n",
      "67500\n",
      "3500.0\n",
      "La tienda de nombre Media Markt se encuentra en la dirección Avenida Diagonal 177\n",
      "10000\n",
      "([6000.0, 3000.0, 12000.0], 21000.0)\n",
      "([9000.0, 4500.0, 18000.0], 31500.0)\n",
      "Las últimas ventas de cada mes de cada tienda son: 18000.0, 3000, 250000\n",
      "271000.0\n",
      "Media Markt\n",
      "None\n",
      "None\n"
     ]
    }
   ],
   "source": [
    "mediamarkt = Tienda(\"Media Markt\", \"Avenida Diagonal 177\", 5, [5000, 2500, 10000])\n",
    "elcorteingles = Tienda(\"El Corte Ingles\", \"Gran Via 111\", 10, [7500, 1000, 3000])\n",
    "fnac = Tienda(\"Fnac\", \"Paseo de la Castellana 4\", 25, [10000, 75000, 250000])\n",
    "\n",
    "print(mediamarkt.nombre)\n",
    "print(mediamarkt.direccion)\n",
    "print(mediamarkt.numero_empleados)\n",
    "print(mediamarkt.ventas_tres_meses)\n",
    "print(mediamarkt.tipo)\n",
    "print(mediamarkt.abierta)\n",
    "\n",
    "print(mediamarkt.ventas_totales(50000))\n",
    "print(mediamarkt.media_ventas_empleados())\n",
    "print(mediamarkt.print_tienda_direccion())\n",
    "print(mediamarkt.ventas_ultimo_mes())\n",
    "print(mediamarkt.proyeccion(10))\n",
    "print(mediamarkt.proyeccion(1000))\n",
    "\n",
    "##\n",
    "\n",
    "print(f\"Las últimas ventas de cada mes de cada tienda son: \\\n",
    "{mediamarkt.ventas_tres_meses[-1]}, {elcorteingles.ventas_tres_meses[-1]}, {fnac.ventas_tres_meses[-1]}\")\n",
    "\n",
    "suma_ultimos = 0\n",
    "for lista in (mediamarkt.ventas_tres_meses, elcorteingles.ventas_tres_meses, fnac.ventas_tres_meses):\n",
    "    suma_ultimos += lista[-1]\n",
    "print(suma_ultimos)\n",
    "\n",
    "##\n",
    "\n",
    "def imprimir_avenida(tienda):\n",
    "    if \"Avenida\" in tienda.print_tienda_direccion():\n",
    "        return tienda.nombre\n",
    "    return None\n",
    "print(imprimir_avenida(mediamarkt))\n",
    "print(imprimir_avenida(elcorteingles))\n",
    "print(imprimir_avenida(fnac))"
   ]
  },
  {
   "cell_type": "markdown",
   "metadata": {
    "id": "WEBq7EpsSU40"
   },
   "source": [
    "## Ejercicio 2\n",
    "En este ejercicio vamos a implementar una clase *Perro* en Python. La clase tiene las siguientes características:\n",
    "* Cosas que sabemos seguro que tiene un perro\n",
    "    * Tiene 4 patas\n",
    "    * 2 orejas\n",
    "    * 2 ojos\n",
    "    * Una velocidad de 0. Por defecto, el perro está parado\n",
    "* Cuando se inicialice:\n",
    "    * El perro será de una determinada raza\n",
    "    * Por defecto tendrá pelo \"Marrón\", a no ser que se diga lo contrario.\n",
    "    * Por defecto no tendrá dueño, a no ser que se diga lo contrario.\n",
    "    \n",
    "* Dispondrá también de un método llamado andar, que tiene un argumento de entrada (aumento_velocidad). Este valor se le sumará a la velocidad que ya llevaba el perro.\n",
    "* Necesita otro método (parar), donde pondremos la velocidad a 0.\n",
    "* Otro método llamado \"ladrar\", que tendrá un argumento de entrada, y la salida será el siguiente string: \"GUAU!\" + el argumento de entrada.\n",
    "\n",
    "\n",
    "Se pide:\n",
    "* Implementa la clase *Perro*\n",
    "* Crea un objeto de tipo *Perro*, sin dueño\n",
    "* Comprueba que están bien todos sus atributos\n",
    "* Prueba que ande, y comprueba su velocidad\n",
    "* Páralo\n",
    "* Documenta la clase *Perro*"
   ]
  },
  {
   "cell_type": "code",
   "execution_count": 23,
   "metadata": {
    "id": "DpEWvbwGSU40"
   },
   "outputs": [],
   "source": [
    "class Perro: #creación de clase Perro\n",
    "    \n",
    "    def __init__(self, raza, pelo = \"Marrón\", dueño = False, patas = 4, orejas = 2, ojos = 2, velocidad = 0): #inicializacion del objeto\n",
    "        self.raza = raza                                                                                      #con \"raza\" como arg posicional,\n",
    "        self.pelo = pelo                                                                                      #los demás son keywords (por defecto)\n",
    "        self.dueño = dueño\n",
    "        self.patas = patas\n",
    "        self.orejas = orejas\n",
    "        self.ojos = ojos\n",
    "        self.velocidad = velocidad\n",
    "\n",
    "    def andar(self, aumento_velocidad):\n",
    "        self.velocidad += int(aumento_velocidad)\n",
    "        return \"La velocidad del \" + self.raza + \" es de \" + str(self.velocidad) + \" km/h\" \n",
    "        # método andar, se le suma el argumento aumento_velocidad, convertido a int, a la velocidad inicial (0),\n",
    "        # y luego se imprime con strings y la self.velocidad convertida a str para que no de error\n",
    "\n",
    "    def parar(self):\n",
    "        return \"La velocidad del \" + self.raza + \" es de \" + str(self.velocidad * 0) + \" km/h: está parado\" #metodo parar, sin argumentos, devuelvo cualquier velocidad multiplicada por 0 para que devuelva 0\n",
    "\n",
    "    def ladrar(self, entrada):\n",
    "        return \"'GUAU!' significa: \" + str(entrada) #metodo ladrar, concateno GUAU con la entrada convertida a str para que no de error"
   ]
  },
  {
   "cell_type": "code",
   "execution_count": 24,
   "metadata": {},
   "outputs": [
    {
     "name": "stdout",
     "output_type": "stream",
     "text": [
      "Golden\n",
      "Marrón\n",
      "False\n",
      "4\n",
      "2\n",
      "2\n",
      "0\n",
      "La velocidad del Golden es de 2 km/h\n",
      "La velocidad del Golden es de 0 km/h: está parado\n",
      "'GUAU!' significa: tírame el palito\n"
     ]
    }
   ],
   "source": [
    "golden = Perro(\"Golden\")\n",
    "\n",
    "print(golden.raza)\n",
    "print(golden.pelo)\n",
    "print(golden.dueño)\n",
    "print(golden.patas)\n",
    "print(golden.orejas)\n",
    "print(golden.ojos)\n",
    "print(golden.velocidad)\n",
    "\n",
    "print(golden.andar(2))\n",
    "print(golden.parar())\n",
    "print(golden.ladrar(\"tírame el palito\"))"
   ]
  }
 ],
 "metadata": {
  "colab": {
   "provenance": [
    {
     "file_id": "1mVp2vsiVcQddF5BWlC2x96I5a47BruGu",
     "timestamp": 1757752794340
    }
   ]
  },
  "kernelspec": {
   "display_name": "Python 3 (ipykernel)",
   "language": "python",
   "name": "python3"
  },
  "language_info": {
   "codemirror_mode": {
    "name": "ipython",
    "version": 3
   },
   "file_extension": ".py",
   "mimetype": "text/x-python",
   "name": "python",
   "nbconvert_exporter": "python",
   "pygments_lexer": "ipython3",
   "version": "3.13.3"
  }
 },
 "nbformat": 4,
 "nbformat_minor": 4
}
