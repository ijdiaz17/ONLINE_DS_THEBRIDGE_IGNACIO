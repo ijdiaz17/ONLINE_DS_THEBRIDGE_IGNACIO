{
 "cells": [
  {
   "cell_type": "markdown",
   "metadata": {
    "id": "uZ0sm8PqqZ6N"
   },
   "source": [
    "## EJERCICIOS PYTHON BASICO 4:\n",
    "## Funciones, métodos, listas"
   ]
  },
  {
   "cell_type": "markdown",
   "metadata": {
    "id": "l22h-QFMqZ6O"
   },
   "source": [
    "Completa los siguiente ejercicios, la solución completa a los mismos se publicarán en el repo del curso a lo largo del sprint. En algunos ejercicios se muestra la solución final, para que puedas comprobar que lo has hecho bien, pero lo importante es el código que generes. ¡Vaaamos, a ello...!"
   ]
  },
  {
   "cell_type": "markdown",
   "metadata": {
    "id": "EvxOLncaqZ6P"
   },
   "source": [
    "![ejercicio.png](./img/ejercicio.png)\n",
    "\n",
    "## Ejercicio 1\n",
    "Para este ejercicio vamos a poner en práctica [las funciones built in](https://docs.python.org/3/library/functions.html).\n",
    "\n",
    "1. Calcula el máximo de la lista: [4, 6, 8, -1]\n",
    "2. Suma todos los elementos de la lista anterior\n",
    "3. Redondea este float a 3 dígitos decimales: 63.451256965\n",
    "4. Valor absoluto de: -74"
   ]
  },
  {
   "cell_type": "code",
   "execution_count": 1,
   "metadata": {
    "id": "rIKgLy-AqZ6Q"
   },
   "outputs": [
    {
     "name": "stdout",
     "output_type": "stream",
     "text": [
      "8\n",
      "17\n",
      "63.451\n",
      "74\n"
     ]
    }
   ],
   "source": [
    "lista = [4, 6, 8, -1]\n",
    "print(max(lista))\n",
    "print(sum(lista))\n",
    "print(round(63.451256965,3))\n",
    "print(abs(-74))"
   ]
  },
  {
   "cell_type": "markdown",
   "metadata": {
    "id": "zLl4P-dVqZ6R"
   },
   "source": [
    "![ejercicio.png](./img/ejercicio.png)\n",
    "\n",
    "## Ejercicio 2\n",
    "Para el siguiente string se pide imprimir por pantalla los siguientes casos\n",
    "\n",
    "    \"En un lugar de la Mancha, de cuyo nombre no quiero acordarme.\"\n",
    "\n",
    "1. Pásalo todo a mayúsculas\n",
    "2. Pásalo todo a minúsculas\n",
    "3. Solo la primera letra de cada palabra en mayúscula, el resto en minúscula\n",
    "4. Crea una lista dividiéndolo por sus espacios\n",
    "5. Sustituye las comas `,` por puntos y comas `;`\n",
    "6. Elimina las `a` minúsculas"
   ]
  },
  {
   "cell_type": "code",
   "execution_count": 2,
   "metadata": {
    "id": "1gS7YxnvqZ6S",
    "outputId": "760f8fac-e070-458e-e67e-d2f982cbcf05"
   },
   "outputs": [
    {
     "name": "stdout",
     "output_type": "stream",
     "text": [
      "EN UN LUGAR DE LA MANCHA, DE CUYO NOMBRE NO QUIERO ACORDARME.\n",
      "en un lugar de la mancha, de cuyo nombre no quiero acordarme.\n",
      "En Un Lugar De La Mancha, De Cuyo Nombre No Quiero Acordarme.\n",
      "['En', 'un', 'lugar', 'de', 'la', 'Mancha,', 'de', 'cuyo', 'nombre', 'no', 'quiero', 'acordarme.']\n",
      "En un lugar de la Mancha; de cuyo nombre no quiero acordarme.\n",
      "En un lugr de l Mnch, de cuyo nombre no quiero cordrme.\n"
     ]
    }
   ],
   "source": [
    "string = \"En un lugar de la Mancha, de cuyo nombre no quiero acordarme.\"\n",
    "print(string.upper())\n",
    "print(string.lower())\n",
    "print(string.title())\n",
    "print(string.split(\" \"))\n",
    "print(string.replace(\",\",\";\"))\n",
    "print(string.replace(\"a\",\"\"))"
   ]
  },
  {
   "cell_type": "markdown",
   "metadata": {
    "id": "N43hcUd4qZ6U"
   },
   "source": [
    "## Ejercicio 3\n",
    "1. Crea una lista con 3 elementos numéricos\n",
    "2. Añade un cuarto elemento\n",
    "3. Calcula la suma de todos\n",
    "4. Elimina el segundo elemento de la lista\n",
    "5. Añade otro elemento en la posicion 3 de la lista\n",
    "6. Crea otra lista con 4 elementos y concaténala a la que ya tenías.\n",
    "7. Ordena la lista de menor a mayor.\n",
    "8. BONUS: Ordena la lista de mayor a menor.  \n",
    "(*PISTA: Para hacer 8, tendrás que buscar en la información del método...*)  \n",
    "  \n",
    "  \n",
    "NOTA: Pinta por pantalla el resultado de cada paso."
   ]
  },
  {
   "cell_type": "code",
   "execution_count": 6,
   "metadata": {
    "id": "ah3o5J_7qZ6U",
    "outputId": "91e543c9-4c60-4670-d7e0-e1fc1007ee47"
   },
   "outputs": [
    {
     "name": "stdout",
     "output_type": "stream",
     "text": [
      "El punto 1 es [1, 2, 3]\n",
      "El punto 2 es [1, 2, 3, 4]\n",
      "El punto 3 es 10\n",
      "El punto 4 es [1, 3, 4]\n",
      "El punto 5 es [1, 3, 1000, 4]\n",
      "El punto 6 es [1, 3, 1000, 4, 55, 18, -16, 9]\n",
      "El punto 7 es [-16, 1, 3, 4, 9, 18, 55, 1000]\n",
      "El punto 8 es [1000, 55, 18, 9, 4, 3, 1, -16]\n"
     ]
    }
   ],
   "source": [
    "numeros = [1, 2, 3]\n",
    "print(f\"El punto 1 es {numeros}\")\n",
    "\n",
    "numeros.append(4)\n",
    "print(f\"El punto 2 es {numeros}\")\n",
    "\n",
    "print(f\"El punto 3 es {sum(numeros)}\")\n",
    "\n",
    "numeros.pop(1)\n",
    "print(f\"El punto 4 es {numeros}\")\n",
    "\n",
    "numeros.insert(2, 1000)             #por posicion 3 entiendo que se refiere al indice 2\n",
    "print(f\"El punto 5 es {numeros}\")\n",
    "\n",
    "letras = [55, 18, -16, 9]\n",
    "nueva_lista = numeros + letras\n",
    "print(f\"El punto 6 es {nueva_lista}\")\n",
    "\n",
    "print(f\"El punto 7 es {sorted(nueva_lista)}\")\n",
    "\n",
    "print(f\"El punto 8 es {sorted(nueva_lista, reverse=True)}\")"
   ]
  }
 ],
 "metadata": {
  "colab": {
   "provenance": [
    {
     "file_id": "1cRNjAYG-cZ8wju9DhODRekqvEM0Ne_Cl",
     "timestamp": 1757323862087
    }
   ]
  },
  "kernelspec": {
   "display_name": "Python 3 (ipykernel)",
   "language": "python",
   "name": "python3"
  },
  "language_info": {
   "codemirror_mode": {
    "name": "ipython",
    "version": 3
   },
   "file_extension": ".py",
   "mimetype": "text/x-python",
   "name": "python",
   "nbconvert_exporter": "python",
   "pygments_lexer": "ipython3",
   "version": "3.13.3"
  }
 },
 "nbformat": 4,
 "nbformat_minor": 4
}
