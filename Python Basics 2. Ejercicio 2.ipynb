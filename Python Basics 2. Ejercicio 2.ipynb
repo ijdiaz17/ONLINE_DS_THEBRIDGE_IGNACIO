{
 "cells": [
  {
   "cell_type": "markdown",
   "metadata": {
    "id": "WHD6g0_7qZ2v"
   },
   "source": [
    "## EJERCICIOS PYTHON BASICO 3:\n",
    "## Operaciones matemáticas, comparación y booleanas"
   ]
  },
  {
   "cell_type": "markdown",
   "metadata": {
    "id": "vNNR9eP5qZ2w"
   },
   "source": [
    "Completa los siguiente ejercicios, la solución completa a los mismos se publicarán en el repo del curso a lo largo del sprint. En algunos ejercicios se muestra la solución final, para que puedas comprobar que lo has hecho bien, pero lo importante es el código que generes. ¡Vaaamos, a ello...!"
   ]
  },
  {
   "cell_type": "markdown",
   "metadata": {
    "id": "jJeAZWzPqZ2y"
   },
   "source": [
    "![ejercicio.png](./img/ejercicio.png)\n",
    "\n",
    "\n",
    "## Ejercicio 1\n",
    "Tenemos las siguientes variables:\n",
    "\n",
    "```Python\n",
    "A = 4\n",
    "B = \"Text\"\n",
    "C = 4.1\n",
    "```\n",
    "\n",
    "Comprueba:\n",
    "1. Si A y B son equivalentes\n",
    "2. Si A y C NO son equivalentes\n",
    "3. Si A es mayor que C\n",
    "4. Si C es menor o igual que A\n",
    "5. Si B NO es equivalente a C"
   ]
  },
  {
   "cell_type": "code",
   "execution_count": null,
   "metadata": {},
   "outputs": [],
   "source": [
    "A == B\n",
    "A != C\n",
    "A > C\n",
    "C <= A\n",
    "B != C"
   ]
  },
  {
   "cell_type": "markdown",
   "metadata": {
    "id": "Pz1VxQB5qZ22"
   },
   "source": [
    "## Ejercicio 2\n",
    "Crea un programa donde se recojan dos inputs del usuario, y el output del programa sea si esos inputs son iguales o no"
   ]
  },
  {
   "cell_type": "code",
   "execution_count": 3,
   "metadata": {
    "id": "g7c13TAMqZ24"
   },
   "outputs": [
    {
     "name": "stdin",
     "output_type": "stream",
     "text": [
      "Escribe algo:  hola\n",
      "Escribe otra cosa:  chay\n"
     ]
    },
    {
     "name": "stdout",
     "output_type": "stream",
     "text": [
      "Aquí sabrás si son iguales o no: False\n"
     ]
    }
   ],
   "source": [
    "entrada_1 = input(\"Escribe algo: \")\n",
    "entrada_2 = input(\"Escribe otra cosa: \")\n",
    "\n",
    "print(f\"Aquí sabrás si son iguales o no: {entrada_1 == entrada_2}\")"
   ]
  },
  {
   "cell_type": "markdown",
   "metadata": {
    "id": "geF1GKT5qZ24"
   },
   "source": [
    "## Ejercicio 3\n",
    "Mismo programa que en 2, pero en esta ocasión tienen que ser tres inputs y dos salidas. Una de las salidas que nos indique si todos son iguales, y la otra si al menos dos inputs sí que lo son"
   ]
  },
  {
   "cell_type": "code",
   "execution_count": 8,
   "metadata": {
    "id": "DXU_N2q1qZ26",
    "outputId": "81fe40fd-2c15-4d19-9ecf-0fb86b93982a"
   },
   "outputs": [
    {
     "name": "stdin",
     "output_type": "stream",
     "text": [
      "Escribe algo:  1\n",
      "Escribe otra cosa:  2\n",
      "Escribe lo último:  2\n"
     ]
    },
    {
     "name": "stdout",
     "output_type": "stream",
     "text": [
      "False\n",
      "True\n"
     ]
    }
   ],
   "source": [
    "entrada_1 = input(\"Escribe algo: \")\n",
    "entrada_2 = input(\"Escribe otra cosa: \")\n",
    "entrada_3 = input(\"Escribe lo último: \")\n",
    "\n",
    "print(entrada_1 == entrada_2 and entrada_1 == entrada_3)\n",
    "print(entrada_1 == entrada_2 or entrada_1 == entrada_3 or entrada_2 == entrada_3)"
   ]
  },
  {
   "cell_type": "markdown",
   "metadata": {
    "id": "LLD8SIzfqZ28"
   },
   "source": [
    "![ejercicio.png](./img/ejercicio.png)\n",
    "\n",
    "## Ejercicio 4\n",
    "Razona sin ejecutar código el output que obtendremos de las siguientes sentencias\n",
    "1. True and True and False\n",
    "2. not ((True or False) and (True or False))\n",
    "3. (False or False or False or True) and False\n",
    "4. not False and True and not True"
   ]
  },
  {
   "cell_type": "markdown",
   "metadata": {},
   "source": [
    "1. False\n",
    "2. False\n",
    "3. False\n",
    "4. False"
   ]
  },
  {
   "cell_type": "markdown",
   "metadata": {
    "id": "Fx5wee7_qZ29"
   },
   "source": []
  }
 ],
 "metadata": {
  "colab": {
   "provenance": [
    {
     "file_id": "1Z5Y2lqKV2M3XhpKfkn5-oa-3FG4KHaZy",
     "timestamp": 1757323854374
    }
   ]
  },
  "kernelspec": {
   "display_name": "Python 3 (ipykernel)",
   "language": "python",
   "name": "python3"
  },
  "language_info": {
   "codemirror_mode": {
    "name": "ipython",
    "version": 3
   },
   "file_extension": ".py",
   "mimetype": "text/x-python",
   "name": "python",
   "nbconvert_exporter": "python",
   "pygments_lexer": "ipython3",
   "version": "3.13.3"
  }
 },
 "nbformat": 4,
 "nbformat_minor": 4
}
